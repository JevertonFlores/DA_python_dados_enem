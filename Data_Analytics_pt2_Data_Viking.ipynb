{
  "nbformat": 4,
  "nbformat_minor": 0,
  "metadata": {
    "colab": {
      "provenance": []
    },
    "kernelspec": {
      "name": "python3",
      "display_name": "Python 3"
    },
    "language_info": {
      "name": "python"
    }
  },
  "cells": [
    {
      "cell_type": "markdown",
      "source": [],
      "metadata": {
        "id": "kLRCABcZ9XZL"
      }
    },
    {
      "cell_type": "markdown",
      "source": [
        "<a id=\"atributes\"></a>\n",
        "### **1. Reconhecimento de Atributos**\n",
        "\n",
        "Esta etapa consiste no entendimento do dataset de modo geral, relacionando suas dimensões, seus exemplos, representando os registros e entradas, e atributos, representando suas colunas e características. Os atributos, por sua vez, podem ser investigados quanto ao seu tipo, escala, valores únicos, etc. Para esta etapa, é aconselhável também acessar os dicionários dos dados, caso existam, a fim de ter uma dimensão maior da natureza e detalhes importantes dos dados."
      ],
      "metadata": {
        "id": "g5Rl_Hd69ZzF"
      }
    },
    {
      "cell_type": "markdown",
      "source": [
        "<a id=\"univariate\"></a>\n",
        "### **2. Análise Univariada**\n",
        "\n",
        "Esta etapa consiste na descrição dos dados avaliando seus atributos, um por vez. Dessa forma, é possível visualizar as distribuições das variáveis e seus respectivos parâmetros estatísticos que os descrevem."
      ],
      "metadata": {
        "id": "dCpPCwKr9bOZ"
      }
    },
    {
      "cell_type": "markdown",
      "source": [
        "<a id=\"multivariate\"></a>\n",
        "### **3. Análise Multivariada**\n",
        "\n",
        "Esta etapa consiste na descrição dos dados avaliando seus atributos em conjunto. Dessa forma, é possível visualizar correlações entre as variáveis e seus respectivos parâmetros estatísticos que os descrevem."
      ],
      "metadata": {
        "id": "O5aEp5HE9esi"
      }
    },
    {
      "cell_type": "markdown",
      "source": [
        "<a id=\"aberrant\"></a>\n",
        "### **4. Deteção de Anomalias**\n",
        "\n",
        "Esta etapa consiste na identificação de anomalias nos dados, seja referente a inconsistência do valor medido (exemplo: idade acima de 300 anos), seja a ausência de um valor. É importante mencionar que a ocorrência sistemática de qualquer anomalia pode estar relacionada ao processo de coleta dos dados, algo que, do ponto de vista estatístico, deve ser analisado cuidadosamente e tratado conforme regras específicas, conforme consta no estado da arte."
      ],
      "metadata": {
        "id": "X3_uOFXO9jKQ"
      }
    },
    {
      "cell_type": "markdown",
      "source": [
        "<a id=\"outliers\"></a>\n",
        "### **5. Deteção de Outliers**\n",
        "\n",
        "Esta etapa consiste na identificação de pontos extremos que podem representar algum tipo de anomalia nos dados e interferir nos parâmetros estatísticos. É importante lembrar que nem sempre um outlier é decorrente de um erro ou anomalia, pois simplesmente pode representar um espaço pouco explorado ou com poucos exemplos à disposição no dataset."
      ],
      "metadata": {
        "id": "BOBq--G89kX8"
      }
    },
    {
      "cell_type": "markdown",
      "source": [
        "<a id=\"feature_eng\"></a>\n",
        "### **6. Engenharia de Features**\n",
        "\n",
        "Esta etapa consiste na transformação e criação de novas características no dataset ou, simplesmente, na diminuição de sua dimensionalidade por meio da seleção das características mais relevantes e as que melhor representam a variância dos dados. Esta etapa está diretamente relacionada com o entendimento da natureza dos dados e do negócio. Porém, vale lembrar que nem sempre esta etapa ocorre dentro da EDA, podendo fazer também parte do pré-processamento."
      ],
      "metadata": {
        "id": "N_L_oVjg9pMl"
      }
    },
    {
      "cell_type": "markdown",
      "source": [
        "Observações:\n",
        "\n",
        "* Uma observação importante nessas etapas é que, em diversos casos, a EDA e o pré-processamento entram num ciclo, onde o que é descoberto em uma etapa é transformado na consequente que, por sua vez, após estas transformações aplicadas, é possível criar novas visualizações e entendimentos complementares sobre os dados originados, novamente na EDA.\n",
        "\n",
        "* Além disso, as etapas de descoberta de anomalias ou outliers podem ser tratadas ainda na EDA ou, simplesmente, mantidas para que no pré-processamento de dados sejam passadas por uma limpeza e transformação adicionais."
      ],
      "metadata": {
        "id": "5pp8QQn89rRs"
      }
    },
    {
      "cell_type": "markdown",
      "source": [
        "<a id=\"hands_on_eda\"></a>\n",
        "## **Hands On!**"
      ],
      "metadata": {
        "id": "JrYvVmWq9sM4"
      }
    },
    {
      "cell_type": "markdown",
      "source": [
        "# Libs"
      ],
      "metadata": {
        "id": "H2juumfu91h4"
      }
    },
    {
      "cell_type": "code",
      "source": [
        "!pip install polars\n",
        "!pip install geobr geopandas==0.12.2\n",
        "#!pip uninstall geopandas\n",
        "#!pip install geopandas==0.12.2"
      ],
      "metadata": {
        "id": "EkYGFCle9u_W"
      },
      "execution_count": null,
      "outputs": []
    },
    {
      "cell_type": "code",
      "source": [
        "import pandas as pd\n",
        "import numpy as np\n",
        "\n",
        "import geobr\n",
        "\n",
        "# visualização de dados\n",
        "import matplotlib.pyplot as plt\n",
        "import seaborn as sns\n",
        "\n",
        "\n",
        "# set some options in pandas\n",
        "pd.set_option('display.max_columns', 140)\n",
        "pd.set_option('display.max_rows', 140)\n",
        "\n",
        "\n",
        "import warnings\n",
        "warnings.filterwarnings('ignore')"
      ],
      "metadata": {
        "id": "M3nfbndz_xqQ"
      },
      "execution_count": 6,
      "outputs": []
    },
    {
      "cell_type": "markdown",
      "source": [
        "# Montando o drive"
      ],
      "metadata": {
        "id": "S1xeMKmv__RW"
      }
    },
    {
      "cell_type": "code",
      "source": [
        "from google.colab import drive\n",
        "drive.mount('/content/drive')"
      ],
      "metadata": {
        "colab": {
          "base_uri": "https://localhost:8080/"
        },
        "id": "PrVWnZh2_755",
        "outputId": "171a3dd5-7bc0-4989-c509-30f103ac79bd"
      },
      "execution_count": 7,
      "outputs": [
        {
          "output_type": "stream",
          "name": "stdout",
          "text": [
            "Mounted at /content/drive\n"
          ]
        }
      ]
    },
    {
      "cell_type": "markdown",
      "source": [
        "# Load Data"
      ],
      "metadata": {
        "id": "q0LBF0u7ASkt"
      }
    },
    {
      "cell_type": "code",
      "source": [
        "df = pd.read_csv('/content/drive/MyDrive/Bases de Dados/dados_enem_2021_BA.csv')"
      ],
      "metadata": {
        "id": "17MbwlpIAMmZ"
      },
      "execution_count": 8,
      "outputs": []
    },
    {
      "cell_type": "markdown",
      "source": [
        "# ?"
      ],
      "metadata": {
        "id": "bffk1SijAhV2"
      }
    },
    {
      "cell_type": "code",
      "source": [],
      "metadata": {
        "id": "rBXRWN9bAgSh"
      },
      "execution_count": null,
      "outputs": []
    }
  ]
}