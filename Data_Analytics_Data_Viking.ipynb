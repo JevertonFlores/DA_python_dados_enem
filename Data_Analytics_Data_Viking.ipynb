{
  "nbformat": 4,
  "nbformat_minor": 0,
  "metadata": {
    "colab": {
      "provenance": [],
      "authorship_tag": "ABX9TyNQJ7irj4WxtNIriQAulemE",
      "include_colab_link": true
    },
    "kernelspec": {
      "name": "python3",
      "display_name": "Python 3"
    },
    "language_info": {
      "name": "python"
    }
  },
  "cells": [
    {
      "cell_type": "markdown",
      "metadata": {
        "id": "view-in-github",
        "colab_type": "text"
      },
      "source": [
        "<a href=\"https://colab.research.google.com/github/JevertonFlores/data_analytics_python/blob/main/Data_Analytics_Data_Viking.ipynb\" target=\"_parent\"><img src=\"https://colab.research.google.com/assets/colab-badge.svg\" alt=\"Open In Colab\"/></a>"
      ]
    },
    {
      "cell_type": "code",
      "execution_count": 1,
      "metadata": {
        "colab": {
          "base_uri": "https://localhost:8080/"
        },
        "id": "AamBjFUAAi57",
        "outputId": "991bb99c-9033-4d74-be3b-fb409a67b6f0"
      },
      "outputs": [
        {
          "output_type": "stream",
          "name": "stdout",
          "text": [
            "Requirement already satisfied: polars in /usr/local/lib/python3.10/dist-packages (0.17.3)\n",
            "Requirement already satisfied: typing_extensions>=4.0.1 in /usr/local/lib/python3.10/dist-packages (from polars) (4.5.0)\n"
          ]
        }
      ],
      "source": [
        "!pip install polars"
      ]
    },
    {
      "cell_type": "code",
      "source": [
        "import pandas as pd\n",
        "import numpy as np\n",
        "import polars as pl\n",
        "import matplotlib.pyplot as plt\n",
        "pd.set_option('display.max_columns', 100)"
      ],
      "metadata": {
        "id": "9J9IBzvdA1LJ"
      },
      "execution_count": 5,
      "outputs": []
    },
    {
      "cell_type": "markdown",
      "source": [
        "# **Load Data**"
      ],
      "metadata": {
        "id": "1wBWUe9BB_8c"
      }
    },
    {
      "cell_type": "code",
      "source": [
        "df = pd.read_csv('dados_enem_2021_BA.csv')"
      ],
      "metadata": {
        "id": "DCIFY8xxB-XQ"
      },
      "execution_count": null,
      "outputs": []
    }
  ]
}