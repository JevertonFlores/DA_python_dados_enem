{
  "nbformat": 4,
  "nbformat_minor": 0,
  "metadata": {
    "colab": {
      "provenance": []
    },
    "kernelspec": {
      "name": "python3",
      "display_name": "Python 3"
    },
    "language_info": {
      "name": "python"
    }
  },
  "cells": [
    {
      "cell_type": "markdown",
      "source": [],
      "metadata": {
        "id": "kLRCABcZ9XZL"
      }
    },
    {
      "cell_type": "markdown",
      "source": [
        "<a id=\"atributes\"></a>\n",
        "### **1. Reconhecimento de Atributos**\n",
        "\n",
        "Esta etapa consiste no entendimento do dataset de modo geral, relacionando suas dimensões, seus exemplos, representando os registros e entradas, e atributos, representando suas colunas e características. Os atributos, por sua vez, podem ser investigados quanto ao seu tipo, escala, valores únicos, etc. Para esta etapa, é aconselhável também acessar os dicionários dos dados, caso existam, a fim de ter uma dimensão maior da natureza e detalhes importantes dos dados."
      ],
      "metadata": {
        "id": "g5Rl_Hd69ZzF"
      }
    },
    {
      "cell_type": "markdown",
      "source": [
        "<a id=\"univariate\"></a>\n",
        "### **2. Análise Univariada**\n",
        "\n",
        "Esta etapa consiste na descrição dos dados avaliando seus atributos, um por vez. Dessa forma, é possível visualizar as distribuições das variáveis e seus respectivos parâmetros estatísticos que os descrevem."
      ],
      "metadata": {
        "id": "dCpPCwKr9bOZ"
      }
    },
    {
      "cell_type": "markdown",
      "source": [
        "<a id=\"multivariate\"></a>\n",
        "### **3. Análise Multivariada**\n",
        "\n",
        "Esta etapa consiste na descrição dos dados avaliando seus atributos em conjunto. Dessa forma, é possível visualizar correlações entre as variáveis e seus respectivos parâmetros estatísticos que os descrevem."
      ],
      "metadata": {
        "id": "O5aEp5HE9esi"
      }
    },
    {
      "cell_type": "markdown",
      "source": [
        "<a id=\"aberrant\"></a>\n",
        "### **4. Deteção de Anomalias**\n",
        "\n",
        "Esta etapa consiste na identificação de anomalias nos dados, seja referente a inconsistência do valor medido (exemplo: idade acima de 300 anos), seja a ausência de um valor. É importante mencionar que a ocorrência sistemática de qualquer anomalia pode estar relacionada ao processo de coleta dos dados, algo que, do ponto de vista estatístico, deve ser analisado cuidadosamente e tratado conforme regras específicas, conforme consta no estado da arte."
      ],
      "metadata": {
        "id": "X3_uOFXO9jKQ"
      }
    },
    {
      "cell_type": "markdown",
      "source": [
        "<a id=\"outliers\"></a>\n",
        "### **5. Deteção de Outliers**\n",
        "\n",
        "Esta etapa consiste na identificação de pontos extremos que podem representar algum tipo de anomalia nos dados e interferir nos parâmetros estatísticos. É importante lembrar que nem sempre um outlier é decorrente de um erro ou anomalia, pois simplesmente pode representar um espaço pouco explorado ou com poucos exemplos à disposição no dataset."
      ],
      "metadata": {
        "id": "BOBq--G89kX8"
      }
    },
    {
      "cell_type": "markdown",
      "source": [
        "<a id=\"feature_eng\"></a>\n",
        "### **6. Engenharia de Features**\n",
        "\n",
        "Esta etapa consiste na transformação e criação de novas características no dataset ou, simplesmente, na diminuição de sua dimensionalidade por meio da seleção das características mais relevantes e as que melhor representam a variância dos dados. Esta etapa está diretamente relacionada com o entendimento da natureza dos dados e do negócio. Porém, vale lembrar que nem sempre esta etapa ocorre dentro da EDA, podendo fazer também parte do pré-processamento."
      ],
      "metadata": {
        "id": "N_L_oVjg9pMl"
      }
    },
    {
      "cell_type": "markdown",
      "source": [
        "Observações:\n",
        "\n",
        "* Uma observação importante nessas etapas é que, em diversos casos, a EDA e o pré-processamento entram num ciclo, onde o que é descoberto em uma etapa é transformado na consequente que, por sua vez, após estas transformações aplicadas, é possível criar novas visualizações e entendimentos complementares sobre os dados originados, novamente na EDA.\n",
        "\n",
        "* Além disso, as etapas de descoberta de anomalias ou outliers podem ser tratadas ainda na EDA ou, simplesmente, mantidas para que no pré-processamento de dados sejam passadas por uma limpeza e transformação adicionais."
      ],
      "metadata": {
        "id": "5pp8QQn89rRs"
      }
    },
    {
      "cell_type": "markdown",
      "source": [
        "<a id=\"hands_on_eda\"></a>\n",
        "## **Hands On!**"
      ],
      "metadata": {
        "id": "JrYvVmWq9sM4"
      }
    },
    {
      "cell_type": "markdown",
      "source": [
        "# Libs"
      ],
      "metadata": {
        "id": "H2juumfu91h4"
      }
    },
    {
      "cell_type": "code",
      "source": [
        "!pip install polars\n",
        "!pip install geobr geopandas==0.12.2\n",
        "#!pip uninstall geopandas\n",
        "#!pip install geopandas==0.12.2"
      ],
      "metadata": {
        "id": "EkYGFCle9u_W"
      },
      "execution_count": null,
      "outputs": []
    },
    {
      "cell_type": "code",
      "source": [
        "import pandas as pd\n",
        "import numpy as np\n",
        "\n",
        "import geobr\n",
        "\n",
        "# visualização de dados\n",
        "import matplotlib.pyplot as plt\n",
        "import seaborn as sns\n",
        "\n",
        "\n",
        "# set some options in pandas\n",
        "pd.set_option('display.max_columns', 140)\n",
        "pd.set_option('display.max_rows', 140)\n",
        "\n",
        "\n",
        "import warnings\n",
        "warnings.filterwarnings('ignore')"
      ],
      "metadata": {
        "id": "M3nfbndz_xqQ"
      },
      "execution_count": 2,
      "outputs": []
    },
    {
      "cell_type": "markdown",
      "source": [
        "# Montando o drive"
      ],
      "metadata": {
        "id": "S1xeMKmv__RW"
      }
    },
    {
      "cell_type": "code",
      "source": [
        "from google.colab import drive\n",
        "drive.mount('/content/drive')"
      ],
      "metadata": {
        "colab": {
          "base_uri": "https://localhost:8080/"
        },
        "id": "PrVWnZh2_755",
        "outputId": "75d74341-b2f6-4f13-f3ca-55d8af67c654"
      },
      "execution_count": 3,
      "outputs": [
        {
          "output_type": "stream",
          "name": "stdout",
          "text": [
            "Mounted at /content/drive\n"
          ]
        }
      ]
    },
    {
      "cell_type": "markdown",
      "source": [
        "# Load Data"
      ],
      "metadata": {
        "id": "q0LBF0u7ASkt"
      }
    },
    {
      "cell_type": "code",
      "source": [
        "df_raw = pd.read_csv('/content/drive/MyDrive/Bases de Dados/dados_enem_2021_BA.csv')\n",
        "quest = pd.read_csv('/content/drive/MyDrive/Bases de Dados/dados_enem_2021_BA_questoes_socieconomicas.csv')"
      ],
      "metadata": {
        "id": "17MbwlpIAMmZ"
      },
      "execution_count": 4,
      "outputs": []
    },
    {
      "cell_type": "markdown",
      "source": [
        "# Definindo funções"
      ],
      "metadata": {
        "id": "bffk1SijAhV2"
      }
    },
    {
      "cell_type": "code",
      "source": [
        "def gerar_histograma (dataframe,\n",
        "                      variavel,\n",
        "                      bins = 30,\n",
        "                      color = 'red',\n",
        "                      xlabel = 'Variável',\n",
        "                      ylabel = 'Frequência',\n",
        "                      titulo = 'Histograma',\n",
        "                      fontsize = 15,\n",
        "                      fontweight = 'bold',\n",
        "                      figsize = (8, 5)\n",
        "                      ):\n",
        "    fig, ax = plt.subplots(figsize = figsize)\n",
        "    ax.hist(data_frame[variavel], bins = bins,\n",
        "            color = color)\n",
        "    ax.set(xlabel = xlabel, ylabel = ylabel)\n",
        "    ax,set_tittle(titulo, fontsize = fontsize,\n",
        "                  fontweight = fontweight\n",
        "                  );\n",
        "\n",
        "\n",
        "def gerar_painel_barra(dataframe,\n",
        "                       var,\n",
        "                       hue,\n",
        "                       title = '',\n",
        "                       title_subplot_1 = '',\n",
        "                       title_subplot_2 = '',\n",
        "                       legend_subplot_2 = '',\n",
        "                       xlabel = 'Quantidade',\n",
        "                       ylabel = '',\n",
        "                       figsize = (12, 6)\n",
        "                      ):\n",
        "    fig, ax = plt.subplots(1, 2, figsize = figsize)\n",
        "    sns.countplot(data = data_frame,\n",
        "                  y = var,\n",
        "                  ax = ax[0])\n",
        "    sns.countplot(data = dataframe,\n",
        "                  y = var,\n",
        "                  hue = hue,\n",
        "                  ax = ax[1])\n",
        "    ax[0].set(ylabel = ylabel, xlabel = xlabel, title = title_subplot_1)\n",
        "    ax[1].set(ylabel = ylabel, xlabel = xlabel, title = title_subplot_2)\n",
        "    ax[1].legend(title = legend_subplot_2)\n",
        "    fig.suptitle(title)\n",
        "    fig.tight_layout(pad = 4)\n",
        "\n",
        "\n",
        "def box_plot(data, title, xlabel, ylabel, figsize = (12, 5)):\n",
        "    fig, ax = plt.subplots(figsize = figsize)\n",
        "    sns.boxplot(data = data, ax = ax)\n",
        "    ax.set(title = title, xlabel = xlabel, ylabel = ylabel)\n",
        "\n",
        "\n",
        "def boxplot_por_filtro(filtro, data_frame, order = None):\n",
        "    'Gera um boxplot com filtro para o eixo x e a variável no eixo y.'\n",
        "    provas = ['MATEMATICA', 'CIENCIAS_NATUREZA', 'LINGUAGENS', 'HUMANAS', 'REDACAO']\n",
        "    filtro_tratado = ' '.join(filtro.split('_')).capitalize()\n",
        "\n",
        "    for prova in provas:\n",
        "        prova_nome_minusculo = prova.lower()\n",
        "        fig, ax = plot.subplots(figsize = (15, 5))\n",
        "        sns.boxplot(x = filtro, y = prova, data = data_frame, ax = ax,\n",
        "                    order = order)\n",
        "        ax.set(\n",
        "              xlabel = filtro_tratado,\n",
        "              ylabel = f'Nota em {prova_nome_minusculo}',\n",
        "              title = f'Nota em {prova_nome_minusculo} filtrada por {filtro_tratado}'\n",
        "        )\n",
        "\n",
        "\n",
        "def check_missing(df):\n",
        "    import pandas\n",
        "    if isinstance(df, pandas.core.frame.DataFrame):\n",
        "        return (((df.isnull().sum()/df.shape[0])*100).round(2)).sort_values(ascending = False)\n",
        "    return None\n",
        "\n",
        "\n",
        "def show_percentage_missing(df):\n",
        "    import matplotlib.pyplot as plt\n",
        "\n",
        "    missing = check_missing(df)\n",
        "    plt.figure(figsize = (10, 20))\n",
        "    plt.barh(y = missing.index, width = missing.values, color = 'darkgray', height = 0.7, align = 'edge')\n",
        "    plt.xlabel('% of missing values', size = 10)\n",
        "    plt.ylabel('Columns', size = 10)\n",
        "    plt.title('Missing Values', fontdict = {'color':'gray', 'weight':'bold', 'size': 12})\n",
        "    plt.grid(alpha = 0.5)\n",
        "    plt.show()\n",
        "\n",
        "\n",
        "def feature_plot_stat(feature, data):\n",
        "    fig, ax = plt.subplots(1, 3, figsize = (15, 5))\n",
        "    fig.suptitle(f'Univariate analysis for {feature}')\n",
        "    sns.histplot(data[feature], kde = True, ax = ax[0])\n",
        "    ax[0].set_xlabel('Distribution of '+feature)\n",
        "    sns.boxplot(y = data[feature], ax = ax[1])\n",
        "    sns.violinplot(x = data[feature], ax = ax[2])\n",
        "    fig.tight_layout(pad = 3)\n",
        "\n",
        "\n",
        "def univariate_analysis(features: list, data = pd.DataFrame):\n",
        "    for feature in features:\n",
        "        feature_plot_stat(feature, data)"
      ],
      "metadata": {
        "id": "GU4n-Ybh3b8A"
      },
      "execution_count": 6,
      "outputs": []
    },
    {
      "cell_type": "code",
      "source": [],
      "metadata": {
        "id": "kGmlWz7u9sPe"
      },
      "execution_count": null,
      "outputs": []
    }
  ]
}